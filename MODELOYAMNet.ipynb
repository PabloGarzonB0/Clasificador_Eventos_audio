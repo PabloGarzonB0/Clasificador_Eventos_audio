{
  "nbformat": 4,
  "nbformat_minor": 0,
  "metadata": {
    "colab": {
      "provenance": []
    },
    "kernelspec": {
      "name": "python3",
      "display_name": "Python 3"
    },
    "language_info": {
      "name": "python"
    }
  },
  "cells": [
    {
      "cell_type": "code",
      "execution_count": 8,
      "metadata": {
        "id": "-TNURtnsbVlY"
      },
      "outputs": [],
      "source": [
        "import tensorflow as tf\n",
        "import tensorflow_hub as hub\n",
        "import numpy as np\n",
        "import csv\n",
        "import io"
      ]
    },
    {
      "cell_type": "code",
      "source": [
        "#load the model\n",
        "model = hub.load('https://tfhub.dev/google/yamnet/1')"
      ],
      "metadata": {
        "id": "5p901Ximbq4Y"
      },
      "execution_count": 2,
      "outputs": []
    },
    {
      "cell_type": "code",
      "source": [
        "#Input : 3 seconds of silence as mono 16 kHz waveform samples\n",
        "waveform = np.zeros(3*16000)\n",
        "dtype=np.float32"
      ],
      "metadata": {
        "id": "giFpMOsRb57E"
      },
      "execution_count": null,
      "outputs": []
    },
    {
      "cell_type": "code",
      "source": [
        "#Run the model, check the output\n",
        "scores, embeddings, log_mel_spectrogram = model(waveform)\n",
        "scores.shape.assert_is_compatible_with([None,521])\n",
        "embeddings.shape.assert_is_compatible_with([None,1024])\n",
        "log_mel_spectrogram.shape.assert_is_compatible_with([None,64])"
      ],
      "metadata": {
        "id": "V5SzEPbzcU8m"
      },
      "execution_count": 7,
      "outputs": []
    },
    {
      "cell_type": "code",
      "source": [
        "#Find the name of the class with the tio score when mean-aggregated accross frames\n",
        "#translate: Encuentre el nombre de la clase con la puntuación más alta cuando se agrega la media en marcos\n",
        "# Find the name of the class with the top score when mean-aggregated across frames.\n",
        "def class_names_from_csv(class_map_csv_text):\n",
        "  \"\"\"Returns list of class names corresponding to score vector.\"\"\"\n",
        "  class_map_csv = io.StringIO(class_map_csv_text)\n",
        "  class_names = [display_name for (class_index, mid, display_name) in csv.reader(class_map_csv)]\n",
        "  class_names = class_names[1:]  # Skip CSV header\n",
        "  return class_names\n",
        "class_map_path = model.class_map_path().numpy()\n",
        "class_names = class_names_from_csv(tf.io.read_file(class_map_path).numpy().decode('utf-8'))\n",
        "print(class_names[scores.numpy().mean(axis=0).argmax()])  # Should print 'Silence'."
      ],
      "metadata": {
        "colab": {
          "base_uri": "https://localhost:8080/"
        },
        "id": "nygj8Q0BdK3N",
        "outputId": "31a96f6a-d025-40b9-d39d-8855b40508a3"
      },
      "execution_count": 13,
      "outputs": [
        {
          "output_type": "stream",
          "name": "stdout",
          "text": [
            "Silence\n"
          ]
        }
      ]
    },
    {
      "cell_type": "code",
      "source": [],
      "metadata": {
        "id": "BNpZ42i9c93X"
      },
      "execution_count": null,
      "outputs": []
    }
  ]
}